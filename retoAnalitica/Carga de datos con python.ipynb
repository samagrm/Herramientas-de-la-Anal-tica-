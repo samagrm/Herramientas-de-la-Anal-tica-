{
 "cells": [
  {
   "cell_type": "markdown",
   "metadata": {},
   "source": [
    "# Lectura de datos con Python"
   ]
  },
  {
   "cell_type": "markdown",
   "metadata": {},
   "source": [
    "1. Con csv"
   ]
  },
  {
   "cell_type": "code",
   "execution_count": null,
   "metadata": {},
   "outputs": [],
   "source": [
    "import csv\n",
    "\n",
    "def creaMatriz(nombre_archivo):\n",
    "    with open(nombre_archivo, newline = '') as csv_file:\n",
    "        csv_reader = csv.reader(csv_file)\n",
    "        data = list(csv_reader)\n",
    "\n",
    "#Para quitar la columna de id\n",
    "    #for i in range(len(data)):\n",
    "    #    data[i].pop(0)         \n",
    "    #return data\n",
    "    \n",
    "matriz = creaMatriz('avocado.csv')\n",
    "print(matriz)"
   ]
  },
  {
   "cell_type": "markdown",
   "metadata": {},
   "source": [
    "2. Sin librerias"
   ]
  },
  {
   "cell_type": "code",
   "execution_count": null,
   "metadata": {},
   "outputs": [],
   "source": [
    "matrix = []\n",
    "\n",
    "fileRead = open('avocado.csv','r')\n",
    "for i in range(18251):\n",
    "    renglon = []\n",
    "    renglon.append(fileRead.readline().split(','))\n",
    "    matrix.append(renglon)\n",
    "    \n",
    "print(matrix)"
   ]
  },
  {
   "cell_type": "markdown",
   "metadata": {},
   "source": [
    "3. Con libreria re"
   ]
  },
  {
   "cell_type": "code",
   "execution_count": null,
   "metadata": {},
   "outputs": [],
   "source": [
    "import re\n",
    "matrix = []\n",
    "fileRead = re.split(',|\\n', open('avocado.csv', 'r').read())\n",
    "while fileRead != []:\n",
    "    matrix.append(fileRead[:14])\n",
    "    fileRead = fileRead[14:]\n",
    "print(matrix)"
   ]
  }
 ],
 "metadata": {
  "interpreter": {
   "hash": "26de051ba29f2982a8de78e945f0abaf191376122a1563185a90213a26c5da77"
  },
  "kernelspec": {
   "display_name": "Python 3.10.4 64-bit",
   "language": "python",
   "name": "python3"
  },
  "language_info": {
   "codemirror_mode": {
    "name": "ipython",
    "version": 3
   },
   "file_extension": ".py",
   "mimetype": "text/x-python",
   "name": "python",
   "nbconvert_exporter": "python",
   "pygments_lexer": "ipython3",
   "version": "3.10.4"
  },
  "orig_nbformat": 4
 },
 "nbformat": 4,
 "nbformat_minor": 2
}
