{
 "cells": [
  {
   "cell_type": "markdown",
   "id": "dfb687ab",
   "metadata": {},
   "source": [
    "#Arte de la Analítica \n",
    "Ejercicios con Python:\n",
    "\n",
    "1.\n",
    "Escribir una función de Python que encuentre los números primos en los primeros N números naturales.\n",
    "N es el argumento de la función\n",
    "Llamar la función desde el código principal\n",
    "\n",
    "2.\n",
    "Escribir una función de Pyton que encuentre el producto cruz en vectores de 3 componentes.\n",
    "La función recibe dos listas (vectores)\n",
    "La función regresa un tercer vector (lista) con el resultado\n",
    "Llamar a la función desde el código principal\n",
    "\n",
    "3.\n",
    "Re-escribir el problema 2, pero ahora los vectores son leídos desde un archivo de texto.\n"
   ]
  },
  {
   "cell_type": "code",
   "execution_count": 21,
   "id": "6a324e01",
   "metadata": {},
   "outputs": [
    {
     "name": "stdout",
     "output_type": "stream",
     "text": [
      "[3, 5, 7, 11, 13, 17, 19]\n"
     ]
    }
   ],
   "source": [
    "import math\n",
    "def num_primos(N):\n",
    "    naturales = [*range(1, N+1)]\n",
    "    primos = []\n",
    "    for i in range(2, len(naturales)):\n",
    "        esprimo = True\n",
    "        for q in range(2, int(math.sqrt(naturales[i]))+1):\n",
    "            if naturales[i] % q==0:\n",
    "                esprimo = False\n",
    "                break\n",
    "        if esprimo:\n",
    "            primos.append(naturales[i])\n",
    "    return primos\n",
    "a = num_primos(20)\n",
    "print(a)"
   ]
  },
  {
   "cell_type": "code",
   "execution_count": 23,
   "id": "e31216ec",
   "metadata": {},
   "outputs": [
    {
     "name": "stdout",
     "output_type": "stream",
     "text": [
      "a= [1.2, 3.7, -0.25]\n",
      "b= [-0.44, -2.8, 7]\n",
      "axb = [25.200000000000003, -8.290000000000001, -1.7319999999999998]\n"
     ]
    }
   ],
   "source": [
    "def cross(a, b):\n",
    "    c = []\n",
    "    c.append(a[1]*b[2]-a[2]*b[1])\n",
    "    c.append(a[2]*b[0]-a[0]*b[2])\n",
    "    c.append(a[0]*b[1]-a[1]*b[0])\n",
    "    return c\n",
    "    \n",
    "x = [1.2, 3.7, -0.25]\n",
    "y = [-0.44, -2.8, 7]\n",
    "cr = cross(x,y)\n",
    "print(\"a=\", x)\n",
    "print(\"b=\", y)\n",
    "print(\"axb =\", cr)"
   ]
  },
  {
   "cell_type": "code",
   "execution_count": 25,
   "id": "1f398ea9",
   "metadata": {},
   "outputs": [
    {
     "name": "stdout",
     "output_type": "stream",
     "text": [
      "[['1.2', ' 3.7', ' 0.25'], ['-0.44', ' -2.8', ' 7']]\n",
      "a= [1.2, 3.7, 0.25]\n",
      "b= [-0.44, -2.8, 7]\n",
      "a x b = [26.6, -8.51, -1.7319999999999998]\n"
     ]
    }
   ],
   "source": [
    "import csv\n",
    "filas = []\n",
    "with open(\"vectores.csv\", 'r') as file:\n",
    "    csvr = csv.reader(file)\n",
    "    for row in csvr:\n",
    "        filas.append(row)\n",
    "    print(filas)\n",
    "    \n",
    "x = [float(filas[0][0]), float(filas[0][1]), float(filas[0][2])]\n",
    "cr = cross(x,y)\n",
    "print(\"a=\", x)\n",
    "print(\"b=\", y)\n",
    "print(\"a x b =\", cr)"
   ]
  },
  {
   "cell_type": "code",
   "execution_count": null,
   "id": "4741ae27",
   "metadata": {},
   "outputs": [],
   "source": []
  }
 ],
 "metadata": {
  "kernelspec": {
   "display_name": "Python 3 (ipykernel)",
   "language": "python",
   "name": "python3"
  },
  "language_info": {
   "codemirror_mode": {
    "name": "ipython",
    "version": 3
   },
   "file_extension": ".py",
   "mimetype": "text/x-python",
   "name": "python",
   "nbconvert_exporter": "python",
   "pygments_lexer": "ipython3",
   "version": "3.9.12"
  }
 },
 "nbformat": 4,
 "nbformat_minor": 5
}
