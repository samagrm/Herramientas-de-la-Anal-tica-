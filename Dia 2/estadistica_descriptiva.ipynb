{
 "cells": [
  {
   "cell_type": "markdown",
   "metadata": {},
   "source": [
    "# Obtención de estadísticas descriptivas"
   ]
  },
  {
   "cell_type": "code",
   "execution_count": 42,
   "metadata": {},
   "outputs": [],
   "source": [
    "import pandas as pd\n",
    "import seaborn as sb\n",
    "import matplotlib.pyplot as plt"
   ]
  },
  {
   "cell_type": "markdown",
   "metadata": {},
   "source": [
    "1. Lectura de CSV"
   ]
  },
  {
   "cell_type": "code",
   "execution_count": 50,
   "metadata": {},
   "outputs": [
    {
     "data": {
      "text/html": [
       "<div>\n",
       "<style scoped>\n",
       "    .dataframe tbody tr th:only-of-type {\n",
       "        vertical-align: middle;\n",
       "    }\n",
       "\n",
       "    .dataframe tbody tr th {\n",
       "        vertical-align: top;\n",
       "    }\n",
       "\n",
       "    .dataframe thead th {\n",
       "        text-align: right;\n",
       "    }\n",
       "</style>\n",
       "<table border=\"1\" class=\"dataframe\">\n",
       "  <thead>\n",
       "    <tr style=\"text-align: right;\">\n",
       "      <th></th>\n",
       "      <th>user_name</th>\n",
       "      <th>user_location</th>\n",
       "      <th>user_description</th>\n",
       "      <th>user_created</th>\n",
       "      <th>user_followers</th>\n",
       "      <th>user_friends</th>\n",
       "      <th>user_favourites</th>\n",
       "      <th>user_verified</th>\n",
       "      <th>date</th>\n",
       "      <th>text</th>\n",
       "      <th>hashtags</th>\n",
       "      <th>source</th>\n",
       "      <th>is_retweet</th>\n",
       "    </tr>\n",
       "  </thead>\n",
       "  <tbody>\n",
       "    <tr>\n",
       "      <th>0</th>\n",
       "      <td>ᏉᎥ☻լꂅϮ</td>\n",
       "      <td>astroworld</td>\n",
       "      <td>wednesday addams as a disney princess keepin i...</td>\n",
       "      <td>2017-05-26 05:46:42</td>\n",
       "      <td>624</td>\n",
       "      <td>950</td>\n",
       "      <td>18775</td>\n",
       "      <td>False</td>\n",
       "      <td>2020-07-25 12:27:21</td>\n",
       "      <td>If I smelled the scent of hand sanitizers toda...</td>\n",
       "      <td>NaN</td>\n",
       "      <td>Twitter for iPhone</td>\n",
       "      <td>False</td>\n",
       "    </tr>\n",
       "    <tr>\n",
       "      <th>1</th>\n",
       "      <td>Tom Basile 🇺🇸</td>\n",
       "      <td>New York, NY</td>\n",
       "      <td>Husband, Father, Columnist &amp; Commentator. Auth...</td>\n",
       "      <td>2009-04-16 20:06:23</td>\n",
       "      <td>2253</td>\n",
       "      <td>1677</td>\n",
       "      <td>24</td>\n",
       "      <td>True</td>\n",
       "      <td>2020-07-25 12:27:17</td>\n",
       "      <td>Hey @Yankees @YankeesPR and @MLB - wouldn't it...</td>\n",
       "      <td>NaN</td>\n",
       "      <td>Twitter for Android</td>\n",
       "      <td>False</td>\n",
       "    </tr>\n",
       "    <tr>\n",
       "      <th>2</th>\n",
       "      <td>Time4fisticuffs</td>\n",
       "      <td>Pewee Valley, KY</td>\n",
       "      <td>#Christian #Catholic #Conservative #Reagan #Re...</td>\n",
       "      <td>2009-02-28 18:57:41</td>\n",
       "      <td>9275</td>\n",
       "      <td>9525</td>\n",
       "      <td>7254</td>\n",
       "      <td>False</td>\n",
       "      <td>2020-07-25 12:27:14</td>\n",
       "      <td>@diane3443 @wdunlap @realDonaldTrump Trump nev...</td>\n",
       "      <td>['COVID19']</td>\n",
       "      <td>Twitter for Android</td>\n",
       "      <td>False</td>\n",
       "    </tr>\n",
       "    <tr>\n",
       "      <th>3</th>\n",
       "      <td>ethel mertz</td>\n",
       "      <td>Stuck in the Middle</td>\n",
       "      <td>#Browns #Indians #ClevelandProud #[]_[] #Cavs ...</td>\n",
       "      <td>2019-03-07 01:45:06</td>\n",
       "      <td>197</td>\n",
       "      <td>987</td>\n",
       "      <td>1488</td>\n",
       "      <td>False</td>\n",
       "      <td>2020-07-25 12:27:10</td>\n",
       "      <td>@brookbanktv The one gift #COVID19 has give me...</td>\n",
       "      <td>['COVID19']</td>\n",
       "      <td>Twitter for iPhone</td>\n",
       "      <td>False</td>\n",
       "    </tr>\n",
       "    <tr>\n",
       "      <th>4</th>\n",
       "      <td>DIPR-J&amp;K</td>\n",
       "      <td>Jammu and Kashmir</td>\n",
       "      <td>🖊️Official Twitter handle of Department of Inf...</td>\n",
       "      <td>2017-02-12 06:45:15</td>\n",
       "      <td>101009</td>\n",
       "      <td>168</td>\n",
       "      <td>101</td>\n",
       "      <td>False</td>\n",
       "      <td>2020-07-25 12:27:08</td>\n",
       "      <td>25 July : Media Bulletin on Novel #CoronaVirus...</td>\n",
       "      <td>['CoronaVirusUpdates', 'COVID19']</td>\n",
       "      <td>Twitter for Android</td>\n",
       "      <td>False</td>\n",
       "    </tr>\n",
       "    <tr>\n",
       "      <th>...</th>\n",
       "      <td>...</td>\n",
       "      <td>...</td>\n",
       "      <td>...</td>\n",
       "      <td>...</td>\n",
       "      <td>...</td>\n",
       "      <td>...</td>\n",
       "      <td>...</td>\n",
       "      <td>...</td>\n",
       "      <td>...</td>\n",
       "      <td>...</td>\n",
       "      <td>...</td>\n",
       "      <td>...</td>\n",
       "      <td>...</td>\n",
       "    </tr>\n",
       "    <tr>\n",
       "      <th>74431</th>\n",
       "      <td>Laura Wolfrom</td>\n",
       "      <td>Lexington, KY</td>\n",
       "      <td>The only things I collect are memories.</td>\n",
       "      <td>2010-09-24 02:01:15</td>\n",
       "      <td>85</td>\n",
       "      <td>586</td>\n",
       "      <td>1902</td>\n",
       "      <td>False</td>\n",
       "      <td>2020-08-04 03:13:29</td>\n",
       "      <td>So far this summer I have filled up my lawn mo...</td>\n",
       "      <td>['COVID19', 'QuarantineLife']</td>\n",
       "      <td>Twitter for iPhone</td>\n",
       "      <td>False</td>\n",
       "    </tr>\n",
       "    <tr>\n",
       "      <th>74432</th>\n",
       "      <td>Professor Tonya M. Evans</td>\n",
       "      <td>😷 #stayathome</td>\n",
       "      <td>Law Prof @DickinsonLaw &amp; Entrepreneur | Crypto...</td>\n",
       "      <td>2013-05-14 20:15:24</td>\n",
       "      <td>4289</td>\n",
       "      <td>1066</td>\n",
       "      <td>53569</td>\n",
       "      <td>False</td>\n",
       "      <td>2020-08-04 03:13:26</td>\n",
       "      <td>ICYMI: REPLAY: #TechIntersect🧩 #16: Isaiah \"@B...</td>\n",
       "      <td>['TechIntersect', 'Bitcoin', 'COVID19']</td>\n",
       "      <td>Twitter Web App</td>\n",
       "      <td>False</td>\n",
       "    </tr>\n",
       "    <tr>\n",
       "      <th>74433</th>\n",
       "      <td>People's Daily app</td>\n",
       "      <td>北京, 中华人民共和国</td>\n",
       "      <td>Our mission is to provide news and perspective...</td>\n",
       "      <td>2018-02-04 12:36:42</td>\n",
       "      <td>1413</td>\n",
       "      <td>102</td>\n",
       "      <td>16</td>\n",
       "      <td>False</td>\n",
       "      <td>2020-08-04 03:13:22</td>\n",
       "      <td>Community workers in Tianshan District of Urum...</td>\n",
       "      <td>['China', 'Xinjiang']</td>\n",
       "      <td>Twitter Web App</td>\n",
       "      <td>False</td>\n",
       "    </tr>\n",
       "    <tr>\n",
       "      <th>74434</th>\n",
       "      <td>M0ser</td>\n",
       "      <td>NaN</td>\n",
       "      <td>Reagan conservative and attorney raised in the...</td>\n",
       "      <td>2014-02-18 03:46:28</td>\n",
       "      <td>2554</td>\n",
       "      <td>1733</td>\n",
       "      <td>129104</td>\n",
       "      <td>False</td>\n",
       "      <td>2020-08-04 03:13:19</td>\n",
       "      <td>If only we had a responsible media to warn us ...</td>\n",
       "      <td>['COVID19']</td>\n",
       "      <td>Twitter for iPhone</td>\n",
       "      <td>False</td>\n",
       "    </tr>\n",
       "    <tr>\n",
       "      <th>74435</th>\n",
       "      <td>Your Friend &amp; Sabre ⚔️</td>\n",
       "      <td>Chicago, IL</td>\n",
       "      <td>My spectral decomposition has a significant da...</td>\n",
       "      <td>2016-12-19 19:55:00</td>\n",
       "      <td>310</td>\n",
       "      <td>1748</td>\n",
       "      <td>60133</td>\n",
       "      <td>False</td>\n",
       "      <td>2020-08-04 03:13:15</td>\n",
       "      <td>MAGA: #COVID19 is just a cold &amp;amp; it'd be go...</td>\n",
       "      <td>['COVID19', 'Hydroxycholoroquine']</td>\n",
       "      <td>Twitter for Android</td>\n",
       "      <td>False</td>\n",
       "    </tr>\n",
       "  </tbody>\n",
       "</table>\n",
       "<p>74436 rows × 13 columns</p>\n",
       "</div>"
      ],
      "text/plain": [
       "                      user_name         user_location  \\\n",
       "0                        ᏉᎥ☻լꂅϮ            astroworld   \n",
       "1                 Tom Basile 🇺🇸          New York, NY   \n",
       "2               Time4fisticuffs      Pewee Valley, KY   \n",
       "3                   ethel mertz  Stuck in the Middle    \n",
       "4                      DIPR-J&K     Jammu and Kashmir   \n",
       "...                         ...                   ...   \n",
       "74431             Laura Wolfrom         Lexington, KY   \n",
       "74432  Professor Tonya M. Evans         😷 #stayathome   \n",
       "74433        People's Daily app           北京, 中华人民共和国   \n",
       "74434                     M0ser                   NaN   \n",
       "74435    Your Friend & Sabre ⚔️           Chicago, IL   \n",
       "\n",
       "                                        user_description         user_created  \\\n",
       "0      wednesday addams as a disney princess keepin i...  2017-05-26 05:46:42   \n",
       "1      Husband, Father, Columnist & Commentator. Auth...  2009-04-16 20:06:23   \n",
       "2      #Christian #Catholic #Conservative #Reagan #Re...  2009-02-28 18:57:41   \n",
       "3      #Browns #Indians #ClevelandProud #[]_[] #Cavs ...  2019-03-07 01:45:06   \n",
       "4      🖊️Official Twitter handle of Department of Inf...  2017-02-12 06:45:15   \n",
       "...                                                  ...                  ...   \n",
       "74431            The only things I collect are memories.  2010-09-24 02:01:15   \n",
       "74432  Law Prof @DickinsonLaw & Entrepreneur | Crypto...  2013-05-14 20:15:24   \n",
       "74433  Our mission is to provide news and perspective...  2018-02-04 12:36:42   \n",
       "74434  Reagan conservative and attorney raised in the...  2014-02-18 03:46:28   \n",
       "74435  My spectral decomposition has a significant da...  2016-12-19 19:55:00   \n",
       "\n",
       "       user_followers  user_friends  user_favourites  user_verified  \\\n",
       "0                 624           950            18775          False   \n",
       "1                2253          1677               24           True   \n",
       "2                9275          9525             7254          False   \n",
       "3                 197           987             1488          False   \n",
       "4              101009           168              101          False   \n",
       "...               ...           ...              ...            ...   \n",
       "74431              85           586             1902          False   \n",
       "74432            4289          1066            53569          False   \n",
       "74433            1413           102               16          False   \n",
       "74434            2554          1733           129104          False   \n",
       "74435             310          1748            60133          False   \n",
       "\n",
       "                      date                                               text  \\\n",
       "0      2020-07-25 12:27:21  If I smelled the scent of hand sanitizers toda...   \n",
       "1      2020-07-25 12:27:17  Hey @Yankees @YankeesPR and @MLB - wouldn't it...   \n",
       "2      2020-07-25 12:27:14  @diane3443 @wdunlap @realDonaldTrump Trump nev...   \n",
       "3      2020-07-25 12:27:10  @brookbanktv The one gift #COVID19 has give me...   \n",
       "4      2020-07-25 12:27:08  25 July : Media Bulletin on Novel #CoronaVirus...   \n",
       "...                    ...                                                ...   \n",
       "74431  2020-08-04 03:13:29  So far this summer I have filled up my lawn mo...   \n",
       "74432  2020-08-04 03:13:26  ICYMI: REPLAY: #TechIntersect🧩 #16: Isaiah \"@B...   \n",
       "74433  2020-08-04 03:13:22  Community workers in Tianshan District of Urum...   \n",
       "74434  2020-08-04 03:13:19  If only we had a responsible media to warn us ...   \n",
       "74435  2020-08-04 03:13:15  MAGA: #COVID19 is just a cold &amp; it'd be go...   \n",
       "\n",
       "                                      hashtags               source  \\\n",
       "0                                          NaN   Twitter for iPhone   \n",
       "1                                          NaN  Twitter for Android   \n",
       "2                                  ['COVID19']  Twitter for Android   \n",
       "3                                  ['COVID19']   Twitter for iPhone   \n",
       "4            ['CoronaVirusUpdates', 'COVID19']  Twitter for Android   \n",
       "...                                        ...                  ...   \n",
       "74431            ['COVID19', 'QuarantineLife']   Twitter for iPhone   \n",
       "74432  ['TechIntersect', 'Bitcoin', 'COVID19']      Twitter Web App   \n",
       "74433                    ['China', 'Xinjiang']      Twitter Web App   \n",
       "74434                              ['COVID19']   Twitter for iPhone   \n",
       "74435       ['COVID19', 'Hydroxycholoroquine']  Twitter for Android   \n",
       "\n",
       "       is_retweet  \n",
       "0           False  \n",
       "1           False  \n",
       "2           False  \n",
       "3           False  \n",
       "4           False  \n",
       "...           ...  \n",
       "74431       False  \n",
       "74432       False  \n",
       "74433       False  \n",
       "74434       False  \n",
       "74435       False  \n",
       "\n",
       "[74436 rows x 13 columns]"
      ]
     },
     "execution_count": 50,
     "metadata": {},
     "output_type": "execute_result"
    }
   ],
   "source": [
    "def readData():\n",
    "    data = pd.read_csv(\"covid19_tweets.csv\")\n",
    "    return data\n",
    "\n",
    "df = readData()\n",
    "df"
   ]
  },
  {
   "cell_type": "markdown",
   "metadata": {},
   "source": [
    "2. Información general"
   ]
  },
  {
   "cell_type": "code",
   "execution_count": 44,
   "metadata": {},
   "outputs": [
    {
     "name": "stdout",
     "output_type": "stream",
     "text": [
      "<class 'pandas.core.frame.DataFrame'>\n",
      "RangeIndex: 74436 entries, 0 to 74435\n",
      "Data columns (total 13 columns):\n",
      " #   Column            Non-Null Count  Dtype \n",
      "---  ------            --------------  ----- \n",
      " 0   user_name         74436 non-null  object\n",
      " 1   user_location     59218 non-null  object\n",
      " 2   user_description  70079 non-null  object\n",
      " 3   user_created      74436 non-null  object\n",
      " 4   user_followers    74436 non-null  int64 \n",
      " 5   user_friends      74436 non-null  int64 \n",
      " 6   user_favourites   74436 non-null  int64 \n",
      " 7   user_verified     74436 non-null  bool  \n",
      " 8   date              74436 non-null  object\n",
      " 9   text              74436 non-null  object\n",
      " 10  hashtags          53002 non-null  object\n",
      " 11  source            74424 non-null  object\n",
      " 12  is_retweet        74436 non-null  bool  \n",
      "dtypes: bool(2), int64(3), object(8)\n",
      "memory usage: 6.4+ MB\n"
     ]
    }
   ],
   "source": [
    "df.info()"
   ]
  },
  {
   "cell_type": "code",
   "execution_count": 45,
   "metadata": {},
   "outputs": [
    {
     "data": {
      "text/html": [
       "<div>\n",
       "<style scoped>\n",
       "    .dataframe tbody tr th:only-of-type {\n",
       "        vertical-align: middle;\n",
       "    }\n",
       "\n",
       "    .dataframe tbody tr th {\n",
       "        vertical-align: top;\n",
       "    }\n",
       "\n",
       "    .dataframe thead th {\n",
       "        text-align: right;\n",
       "    }\n",
       "</style>\n",
       "<table border=\"1\" class=\"dataframe\">\n",
       "  <thead>\n",
       "    <tr style=\"text-align: right;\">\n",
       "      <th></th>\n",
       "      <th>count</th>\n",
       "      <th>unique</th>\n",
       "      <th>top</th>\n",
       "      <th>freq</th>\n",
       "    </tr>\n",
       "  </thead>\n",
       "  <tbody>\n",
       "    <tr>\n",
       "      <th>user_name</th>\n",
       "      <td>74436</td>\n",
       "      <td>44853</td>\n",
       "      <td>GlobalPandemic.NET</td>\n",
       "      <td>312</td>\n",
       "    </tr>\n",
       "    <tr>\n",
       "      <th>user_location</th>\n",
       "      <td>59218</td>\n",
       "      <td>14622</td>\n",
       "      <td>India</td>\n",
       "      <td>1496</td>\n",
       "    </tr>\n",
       "    <tr>\n",
       "      <th>user_description</th>\n",
       "      <td>70079</td>\n",
       "      <td>42690</td>\n",
       "      <td>Breaking News &amp; Critical Information to SURVIV...</td>\n",
       "      <td>312</td>\n",
       "    </tr>\n",
       "    <tr>\n",
       "      <th>user_created</th>\n",
       "      <td>74436</td>\n",
       "      <td>45554</td>\n",
       "      <td>2010-07-13 21:58:05</td>\n",
       "      <td>312</td>\n",
       "    </tr>\n",
       "    <tr>\n",
       "      <th>date</th>\n",
       "      <td>74436</td>\n",
       "      <td>56546</td>\n",
       "      <td>2020-07-29 16:30:00</td>\n",
       "      <td>26</td>\n",
       "    </tr>\n",
       "    <tr>\n",
       "      <th>text</th>\n",
       "      <td>74436</td>\n",
       "      <td>74312</td>\n",
       "      <td>Greenland has no active cases of the novel cor...</td>\n",
       "      <td>6</td>\n",
       "    </tr>\n",
       "    <tr>\n",
       "      <th>hashtags</th>\n",
       "      <td>53002</td>\n",
       "      <td>23445</td>\n",
       "      <td>['COVID19']</td>\n",
       "      <td>16004</td>\n",
       "    </tr>\n",
       "    <tr>\n",
       "      <th>source</th>\n",
       "      <td>74424</td>\n",
       "      <td>450</td>\n",
       "      <td>Twitter Web App</td>\n",
       "      <td>22974</td>\n",
       "    </tr>\n",
       "  </tbody>\n",
       "</table>\n",
       "</div>"
      ],
      "text/plain": [
       "                  count unique  \\\n",
       "user_name         74436  44853   \n",
       "user_location     59218  14622   \n",
       "user_description  70079  42690   \n",
       "user_created      74436  45554   \n",
       "date              74436  56546   \n",
       "text              74436  74312   \n",
       "hashtags          53002  23445   \n",
       "source            74424    450   \n",
       "\n",
       "                                                                top   freq  \n",
       "user_name                                        GlobalPandemic.NET    312  \n",
       "user_location                                                 India   1496  \n",
       "user_description  Breaking News & Critical Information to SURVIV...    312  \n",
       "user_created                                    2010-07-13 21:58:05    312  \n",
       "date                                            2020-07-29 16:30:00     26  \n",
       "text              Greenland has no active cases of the novel cor...      6  \n",
       "hashtags                                                ['COVID19']  16004  \n",
       "source                                              Twitter Web App  22974  "
      ]
     },
     "execution_count": 45,
     "metadata": {},
     "output_type": "execute_result"
    }
   ],
   "source": [
    "df.describe(include = object).transpose()"
   ]
  },
  {
   "cell_type": "markdown",
   "metadata": {},
   "source": [
    "3. Número de favoritos por cuenta (verificada o no)"
   ]
  },
  {
   "cell_type": "code",
   "execution_count": 56,
   "metadata": {},
   "outputs": [
    {
     "data": {
      "image/png": "[encoded data removed]",
      "text/plain": [
       "<Figure size 432x288 with 1 Axes>"
      ]
     },
     "metadata": {
      "needs_background": "light"
     },
     "output_type": "display_data"
    }
   ],
   "source": [
    "df2 = df.iloc[1:, [7,6]]\n",
    "verified_favourites = df2.groupby(['user_verified'], as_index = False).agg('sum')\n",
    "#verified_favourites\n",
    "plt.bar(verified_favourites.user_verified, verified_favourites.user_favourites)\n",
    "plt.title('Comparación de número de favoritos entre cuentas verificadas y no verficadas')\n",
    "plt.xlabel('Usuario verificado')\n",
    "plt.ylabel('Número de favoritos')\n",
    "plt.xticks(verified_favourites.user_verified)\n",
    "plt.show()"
   ]
  },
  {
   "cell_type": "markdown",
   "metadata": {},
   "source": [
    "4. Número de seguidores por cuenta (verificada o no)"
   ]
  },
  {
   "cell_type": "code",
   "execution_count": 58,
   "metadata": {},
   "outputs": [
    {
     "data": {
      "image/png": "[encoded data removed]",
      "text/plain": [
       "<Figure size 432x288 with 1 Axes>"
      ]
     },
     "metadata": {
      "needs_background": "light"
     },
     "output_type": "display_data"
    }
   ],
   "source": [
    "df3 = df.iloc[1:, [7, 4]]\n",
    "verified_followers = df3.groupby(['user_verified'], as_index = False).sum()\n",
    "#verified_followers\n",
    "plt.bar(verified_followers.user_verified, verified_followers.user_followers)\n",
    "plt.title('Comparación de número de followers entre cuentas verificadas y no verficadas')\n",
    "plt.xlabel('Usuario verificado')\n",
    "plt.ylabel('Número de followers')\n",
    "plt.xticks(verified_followers.user_verified)\n",
    "plt.show()"
   ]
  },
  {
   "cell_type": "markdown",
   "metadata": {},
   "source": [
    "5. Número de favoritos por fuente"
   ]
  },
  {
   "cell_type": "code",
   "execution_count": 59,
   "metadata": {},
   "outputs": [
    {
     "name": "stderr",
     "output_type": "stream",
     "text": [
      "C:\\Users\\Guillermo\\AppData\\Roaming\\Python\\Python310\\site-packages\\IPython\\core\\pylabtools.py:151: UserWarning: Glyph 12473 (\\N{KATAKANA LETTER SU}) missing from current font.\n",
      "  fig.canvas.print_figure(bytes_io, **kw)\n",
      "C:\\Users\\Guillermo\\AppData\\Roaming\\Python\\Python310\\site-packages\\IPython\\core\\pylabtools.py:151: UserWarning: Glyph 12510 (\\N{KATAKANA LETTER MA}) missing from current font.\n",
      "  fig.canvas.print_figure(bytes_io, **kw)\n",
      "C:\\Users\\Guillermo\\AppData\\Roaming\\Python\\Python310\\site-packages\\IPython\\core\\pylabtools.py:151: UserWarning: Glyph 12540 (\\N{KATAKANA-HIRAGANA PROLONGED SOUND MARK}) missing from current font.\n",
      "  fig.canvas.print_figure(bytes_io, **kw)\n",
      "C:\\Users\\Guillermo\\AppData\\Roaming\\Python\\Python310\\site-packages\\IPython\\core\\pylabtools.py:151: UserWarning: Glyph 12488 (\\N{KATAKANA LETTER TO}) missing from current font.\n",
      "  fig.canvas.print_figure(bytes_io, **kw)\n",
      "C:\\Users\\Guillermo\\AppData\\Roaming\\Python\\Python310\\site-packages\\IPython\\core\\pylabtools.py:151: UserWarning: Glyph 12491 (\\N{KATAKANA LETTER NI}) missing from current font.\n",
      "  fig.canvas.print_figure(bytes_io, **kw)\n",
      "C:\\Users\\Guillermo\\AppData\\Roaming\\Python\\Python310\\site-packages\\IPython\\core\\pylabtools.py:151: UserWarning: Glyph 12517 (\\N{KATAKANA LETTER SMALL YU}) missing from current font.\n",
      "  fig.canvas.print_figure(bytes_io, **kw)\n"
     ]
    },
    {
     "data": {
      "image/png": "[encoded data removed]",
      "text/plain": [
       "<Figure size 432x288 with 1 Axes>"
      ]
     },
     "metadata": {
      "needs_background": "light"
     },
     "output_type": "display_data"
    }
   ],
   "source": [
    "df4 = df.iloc[1:, [11,6]]\n",
    "source_favourites = df4.groupby(['source'], as_index = False).sum()\n",
    "#source_favourites\n",
    "plt.bar(source_favourites.source, source_favourites.user_favourites)\n",
    "plt.title('Comparación de número de favoritos entre cuentas verificadas y no verficadas')\n",
    "plt.xlabel('Fuente')\n",
    "plt.ylabel('Número de favoritos')\n",
    "plt.xticks(source_favourites.source)\n",
    "plt.show()"
   ]
  },
  {
   "cell_type": "markdown",
   "metadata": {},
   "source": [
    "6. Tweets por país"
   ]
  },
  {
   "cell_type": "code",
   "execution_count": 49,
   "metadata": {},
   "outputs": [
    {
     "data": {
      "text/plain": [
       "user_location\n",
       "\\nˢᵒᵐᵉʷʰᵉʳᵉ\\n🖤         2\n",
       "                       8\n",
       "     Cathlamet, Wa.    1\n",
       "   Canada 🇨🇦🍁🛶🌲        1\n",
       "   WorldWide           1\n",
       "                      ..\n",
       "🤡 🌎                    1\n",
       "🥰🥰                     1\n",
       "🦄                      1\n",
       "🦄🌈❤️🧡💛💚💙💜🌈🦄            2\n",
       "🪐                      4\n",
       "Length: 14622, dtype: int64"
      ]
     },
     "execution_count": 49,
     "metadata": {},
     "output_type": "execute_result"
    }
   ],
   "source": [
    "dups_states = df.pivot_table(columns = ['user_location'], aggfunc = 'size')\n",
    "dups_states\n"
   ]
  }
 ],
 "metadata": {
  "interpreter": {
   "hash": "26de051ba29f2982a8de78e945f0abaf191376122a1563185a90213a26c5da77"
  },
  "kernelspec": {
   "display_name": "Python 3 (ipykernel)",
   "language": "python",
   "name": "python3"
  },
  "language_info": {
   "codemirror_mode": {
    "name": "ipython",
    "version": 3
   },
   "file_extension": ".py",
   "mimetype": "text/x-python",
   "name": "python",
   "nbconvert_exporter": "python",
   "pygments_lexer": "ipython3",
   "version": "3.10.4"
  }
 },
 "nbformat": 4,
 "nbformat_minor": 2
}
